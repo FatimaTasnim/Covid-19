{
 "cells": [
  {
   "cell_type": "code",
   "execution_count": 1,
   "metadata": {},
   "outputs": [],
   "source": [
    "import pandas as pd\n",
    "import numpy as np\n",
    "import os, shutil\n",
    "from fastai.vision import *\n",
    "from fastai.widgets import ClassConfusion"
   ]
  },
  {
   "cell_type": "code",
   "execution_count": 2,
   "metadata": {},
   "outputs": [
    {
     "name": "stdout",
     "output_type": "stream",
     "text": [
      "<class 'list'>\n"
     ]
    }
   ],
   "source": [
    "\n",
    "metadata_path='/home/jupyter/covid-chestxray-dataset/metadata.csv'\n",
    "df=pd.read_csv(metadata_path)\n",
    "\n",
    "#types we're interested in\n",
    "covid_patients=df['finding']=='COVID-19'\n",
    "CT=df['view']=='CT'\n",
    "PA=df['view']=='PA'\n",
    "covid_new = df\n",
    "# %%\n",
    "df[covid_patients & CT].shape\n",
    "df[covid_patients & PA].shape\n",
    "# %%\n",
    "PA_covid=df[covid_patients & PA]\n",
    "Others=df[~covid_patients & PA]\n",
    "covid_files=[files for files in PA_covid['filename']]\n",
    "other_files=[files for files in Others['filename']]\n",
    "print(type(covid_files))"
   ]
  },
  {
   "cell_type": "code",
   "execution_count": 3,
   "metadata": {},
   "outputs": [],
   "source": [
    "test ={'test_files': [\"03BF7561-A9BA-4C3C-B8A0-D3E585F73F3C.jpeg\",\n",
    "\"01E392EE-69F9-4E33-BFCE-E5C968654078.jpeg\",\n",
    "\"1-s2.0-S0929664620300449-gr2_lrg-a.jpg\",\n",
    "\"2C26F453-AF3B-4517-BB9E-802CF2179543.jpeg\",\n",
    "\"1312A392-67A3-4EBF-9319-810CF6DA5EF6.jpeg\",\n",
    "\"171CB377-62FF-4B76-906C-F3787A01CB2E.jpeg\",\n",
    "\"1-s2.0-S1684118220300608-main.pdf-002.jpg\",\n",
    "\"1F6343EE-AFEC-4B7D-97F5-62797EE18767.jpeg\",\n",
    "\"21DDEBFD-7F16-4E3E-8F90-CB1B8EE82828.jpeg\"]}\n",
    "test_files = ([\"03BF7561-A9BA-4C3C-B8A0-D3E585F73F3C.jpeg\",\n",
    "\"01E392EE-69F9-4E33-BFCE-E5C968654078.jpeg\",\n",
    "\"1-s2.0-S0929664620300449-gr2_lrg-a.jpg\",\n",
    "\"2C26F453-AF3B-4517-BB9E-802CF2179543.jpeg\",\n",
    "\"1312A392-67A3-4EBF-9319-810CF6DA5EF6.jpeg\",\n",
    "\"171CB377-62FF-4B76-906C-F3787A01CB2E.jpeg\",\n",
    "\"1-s2.0-S1684118220300608-main.pdf-002.jpg\",\n",
    "\"1F6343EE-AFEC-4B7D-97F5-62797EE18767.jpeg\",\n",
    "\"21DDEBFD-7F16-4E3E-8F90-CB1B8EE82828.jpeg\"])\n",
    "test_df =  pd.DataFrame(test, columns=['test_files'])"
   ]
  },
  {
   "cell_type": "code",
   "execution_count": 4,
   "metadata": {},
   "outputs": [
    {
     "data": {
      "text/html": [
       "<div>\n",
       "<style scoped>\n",
       "    .dataframe tbody tr th:only-of-type {\n",
       "        vertical-align: middle;\n",
       "    }\n",
       "\n",
       "    .dataframe tbody tr th {\n",
       "        vertical-align: top;\n",
       "    }\n",
       "\n",
       "    .dataframe thead th {\n",
       "        text-align: right;\n",
       "    }\n",
       "</style>\n",
       "<table border=\"1\" class=\"dataframe\">\n",
       "  <thead>\n",
       "    <tr style=\"text-align: right;\">\n",
       "      <th></th>\n",
       "      <th>test_files</th>\n",
       "    </tr>\n",
       "  </thead>\n",
       "  <tbody>\n",
       "    <tr>\n",
       "      <th>0</th>\n",
       "      <td>03BF7561-A9BA-4C3C-B8A0-D3E585F73F3C.jpeg</td>\n",
       "    </tr>\n",
       "    <tr>\n",
       "      <th>1</th>\n",
       "      <td>01E392EE-69F9-4E33-BFCE-E5C968654078.jpeg</td>\n",
       "    </tr>\n",
       "    <tr>\n",
       "      <th>2</th>\n",
       "      <td>1-s2.0-S0929664620300449-gr2_lrg-a.jpg</td>\n",
       "    </tr>\n",
       "    <tr>\n",
       "      <th>3</th>\n",
       "      <td>2C26F453-AF3B-4517-BB9E-802CF2179543.jpeg</td>\n",
       "    </tr>\n",
       "    <tr>\n",
       "      <th>4</th>\n",
       "      <td>1312A392-67A3-4EBF-9319-810CF6DA5EF6.jpeg</td>\n",
       "    </tr>\n",
       "    <tr>\n",
       "      <th>5</th>\n",
       "      <td>171CB377-62FF-4B76-906C-F3787A01CB2E.jpeg</td>\n",
       "    </tr>\n",
       "    <tr>\n",
       "      <th>6</th>\n",
       "      <td>1-s2.0-S1684118220300608-main.pdf-002.jpg</td>\n",
       "    </tr>\n",
       "    <tr>\n",
       "      <th>7</th>\n",
       "      <td>1F6343EE-AFEC-4B7D-97F5-62797EE18767.jpeg</td>\n",
       "    </tr>\n",
       "    <tr>\n",
       "      <th>8</th>\n",
       "      <td>21DDEBFD-7F16-4E3E-8F90-CB1B8EE82828.jpeg</td>\n",
       "    </tr>\n",
       "  </tbody>\n",
       "</table>\n",
       "</div>"
      ],
      "text/plain": [
       "                                  test_files\n",
       "0  03BF7561-A9BA-4C3C-B8A0-D3E585F73F3C.jpeg\n",
       "1  01E392EE-69F9-4E33-BFCE-E5C968654078.jpeg\n",
       "2     1-s2.0-S0929664620300449-gr2_lrg-a.jpg\n",
       "3  2C26F453-AF3B-4517-BB9E-802CF2179543.jpeg\n",
       "4  1312A392-67A3-4EBF-9319-810CF6DA5EF6.jpeg\n",
       "5  171CB377-62FF-4B76-906C-F3787A01CB2E.jpeg\n",
       "6  1-s2.0-S1684118220300608-main.pdf-002.jpg\n",
       "7  1F6343EE-AFEC-4B7D-97F5-62797EE18767.jpeg\n",
       "8  21DDEBFD-7F16-4E3E-8F90-CB1B8EE82828.jpeg"
      ]
     },
     "execution_count": 4,
     "metadata": {},
     "output_type": "execute_result"
    }
   ],
   "source": [
    "test_df.head(10)"
   ]
  },
  {
   "cell_type": "code",
   "execution_count": 5,
   "metadata": {},
   "outputs": [
    {
     "name": "stdout",
     "output_type": "stream",
     "text": [
      "root /home/jupyter/covid-chestxray-dataset/images\n"
     ]
    }
   ],
   "source": [
    "path = '/home/jupyter/covid-chestxray-dataset'\n",
    "destpath = path +'/data/covid', path +'/data/other', path +'/data/test'\n",
    "srcpath = '/home/jupyter/covid-chestxray-dataset/images'\n",
    "\n",
    "for root, dirs, files in os.walk(srcpath):\n",
    "  print(\"root\", root)\n",
    "  if not os.path.isdir(destpath[0]):\n",
    "    os.makedirs(destpath[0])\n",
    "  if not os.path.isdir(destpath[1]):\n",
    "    os.makedirs(destpath[1])\n",
    "  if not os.path.isdir(destpath[2]):\n",
    "    os.makedirs(destpath[2])\n",
    "  for file in files:\n",
    "    if file in covid_files:\n",
    "      #print(\"here?\")\n",
    "      shutil.copy((root+'/'+file),destpath[0])\n",
    "    if file in other_files:\n",
    "      shutil.copy((root+'/'+file),destpath[1])\n",
    "    if file in test_files:\n",
    "      shutil.copy((root+'/'+file),destpath[2])"
   ]
  },
  {
   "cell_type": "code",
   "execution_count": 6,
   "metadata": {},
   "outputs": [
    {
     "name": "stdout",
     "output_type": "stream",
     "text": [
      "Number of images in Other: 47 Number of images in Covid: 99 Number of images in Test Set: 9\n"
     ]
    }
   ],
   "source": [
    "\n",
    "print(\"Number of images in Other: {}\".format(len(other_files)),\"Number of images in Covid: {}\".format(len(covid_files)),\"Number of images in Test Set: {}\".format(len(test_files)) )"
   ]
  },
  {
   "cell_type": "code",
   "execution_count": 7,
   "metadata": {},
   "outputs": [],
   "source": [
    "## new data download\n",
    "#! git clone https://github.com/Kaggle/kaggle-api\n",
    "#! pip install kaggle\n",
    "#! kaggle datasets download tasnimfatima/CoronaHack -Chest X-Ray-Dataset\n",
    "#! kaggle datasets download -d praveengovi/coronahack-chest-xraydataset\n",
    "#! sudo apt install unzip\n",
    "#! unzip coronahack-chest-xraydataset.zip"
   ]
  },
  {
   "cell_type": "code",
   "execution_count": 8,
   "metadata": {},
   "outputs": [
    {
     "name": "stdout",
     "output_type": "stream",
     "text": [
      "58\n",
      "(5910, 6)\n",
      "58\n"
     ]
    }
   ],
   "source": [
    "metadata_path='Coronahack-Chest-XRay-Dataset/Chest_xray_Corona_Metadata.csv'\n",
    "df_new=pd.read_csv(metadata_path)\n",
    "\n",
    "#types we're interested in\n",
    "covid_patients_new=df_new['Label_2_Virus_category']=='COVID-19'\n",
    "\n",
    "PA_covid_new=df_new[covid_patients_new ]\n",
    "Others_new=df_new[~covid_patients_new]\n",
    "covid_files=[files for files in PA_covid_new['X_ray_image_name']]\n",
    "other_files=[files for files in Others_new['X_ray_image_name']]\n",
    "print(len(PA_covid_new))\n",
    "print(df_new.shape)\n",
    "\n",
    "\n",
    "path = '/home/jupyter/covid-chestxray-dataset'\n",
    "destpath = path +'/data/covid', path +'/data/other', path +'/data/test'\n",
    "srcpath = 'Coronahack-Chest-XRay-Dataset/Coronahack-Chest-XRay-Dataset/train'\n",
    "new_files = pd.read_csv('Coronahack-Chest-XRay-Dataset/Chest_xray_Corona_Metadata.csv')\n",
    "\n",
    "count = 0\n",
    "for root, dirs, files in os.walk(srcpath):\n",
    "      for file in files:\n",
    "            if file in covid_files:\n",
    "                count = count + 1;\n",
    "                shutil.copy((root+'/'+file),destpath[0])\n",
    "            if file in other_files:\n",
    "                shutil.copy((root+'/'+file),destpath[1])\n",
    "print(count)"
   ]
  },
  {
   "cell_type": "code",
   "execution_count": 9,
   "metadata": {},
   "outputs": [],
   "source": [
    "\n",
    "classes=['covid','other']\n",
    "tfms = get_transforms()"
   ]
  },
  {
   "cell_type": "code",
   "execution_count": 10,
   "metadata": {},
   "outputs": [],
   "source": [
    "data = (ImageList.from_folder('/home/jupyter/covid-chestxray-dataset/data')\n",
    "        .split_by_rand_pct(valid_pct=0.25)\n",
    "        .label_from_folder()\n",
    "        .transform(tfms, size = 512)\n",
    "        .databunch()).normalize(imagenet_stats)"
   ]
  },
  {
   "cell_type": "code",
   "execution_count": 11,
   "metadata": {},
   "outputs": [
    {
     "data": {
      "text/plain": [
       "(4043, 2)"
      ]
     },
     "execution_count": 11,
     "metadata": {},
     "output_type": "execute_result"
    }
   ],
   "source": [
    "df = data.to_df()\n",
    "df.shape"
   ]
  },
  {
   "cell_type": "code",
   "execution_count": 12,
   "metadata": {},
   "outputs": [],
   "source": [
    "import sklearn\n",
    "from sklearn.model_selection import StratifiedKFold"
   ]
  },
  {
   "cell_type": "code",
   "execution_count": 13,
   "metadata": {},
   "outputs": [],
   "source": [
    "skf = StratifiedKFold(n_splits = 5, shuffle = True, random_state = 1)\n",
    "precision=Precision()\n",
    "recall=Recall()\n",
    "AUC=AUROC()"
   ]
  },
  {
   "cell_type": "code",
   "execution_count": 14,
   "metadata": {},
   "outputs": [
    {
     "data": {
      "text/html": [
       "<table border=\"1\" class=\"dataframe\">\n",
       "  <thead>\n",
       "    <tr style=\"text-align: left;\">\n",
       "      <th>epoch</th>\n",
       "      <th>train_loss</th>\n",
       "      <th>valid_loss</th>\n",
       "      <th>accuracy</th>\n",
       "      <th>precision</th>\n",
       "      <th>recall</th>\n",
       "      <th>auroc</th>\n",
       "      <th>time</th>\n",
       "    </tr>\n",
       "  </thead>\n",
       "  <tbody>\n",
       "    <tr>\n",
       "      <td>0</td>\n",
       "      <td>1.063116</td>\n",
       "      <td>0.729147</td>\n",
       "      <td>0.724351</td>\n",
       "      <td>0.377604</td>\n",
       "      <td>0.555203</td>\n",
       "      <td>0.618378</td>\n",
       "      <td>05:28</td>\n",
       "    </tr>\n",
       "  </tbody>\n",
       "</table>"
      ],
      "text/plain": [
       "<IPython.core.display.HTML object>"
      ]
     },
     "metadata": {},
     "output_type": "display_data"
    },
    {
     "name": "stderr",
     "output_type": "stream",
     "text": [
      "/opt/anaconda3/lib/python3.7/site-packages/fastai/metrics.py:191: UserWarning: average=`binary` was selected for a non binary case. Value for average has now been set to `macro` instead.\n",
      "  warn(\"average=`binary` was selected for a non binary case. Value for average has now been set to `macro` instead.\")\n"
     ]
    },
    {
     "data": {
      "text/html": [
       "<table border=\"1\" class=\"dataframe\">\n",
       "  <thead>\n",
       "    <tr style=\"text-align: left;\">\n",
       "      <th>epoch</th>\n",
       "      <th>train_loss</th>\n",
       "      <th>valid_loss</th>\n",
       "      <th>accuracy</th>\n",
       "      <th>precision</th>\n",
       "      <th>recall</th>\n",
       "      <th>auroc</th>\n",
       "      <th>time</th>\n",
       "    </tr>\n",
       "  </thead>\n",
       "  <tbody>\n",
       "    <tr>\n",
       "      <td>0</td>\n",
       "      <td>1.059726</td>\n",
       "      <td>0.912556</td>\n",
       "      <td>0.597033</td>\n",
       "      <td>0.360385</td>\n",
       "      <td>0.511439</td>\n",
       "      <td>0.671153</td>\n",
       "      <td>05:07</td>\n",
       "    </tr>\n",
       "  </tbody>\n",
       "</table>"
      ],
      "text/plain": [
       "<IPython.core.display.HTML object>"
      ]
     },
     "metadata": {},
     "output_type": "display_data"
    },
    {
     "data": {
      "text/html": [
       "<table border=\"1\" class=\"dataframe\">\n",
       "  <thead>\n",
       "    <tr style=\"text-align: left;\">\n",
       "      <th>epoch</th>\n",
       "      <th>train_loss</th>\n",
       "      <th>valid_loss</th>\n",
       "      <th>accuracy</th>\n",
       "      <th>precision</th>\n",
       "      <th>recall</th>\n",
       "      <th>auroc</th>\n",
       "      <th>time</th>\n",
       "    </tr>\n",
       "  </thead>\n",
       "  <tbody>\n",
       "    <tr>\n",
       "      <td>0</td>\n",
       "      <td>1.051656</td>\n",
       "      <td>0.603704</td>\n",
       "      <td>0.797281</td>\n",
       "      <td>0.395062</td>\n",
       "      <td>0.529318</td>\n",
       "      <td>0.492459</td>\n",
       "      <td>05:03</td>\n",
       "    </tr>\n",
       "  </tbody>\n",
       "</table>"
      ],
      "text/plain": [
       "<IPython.core.display.HTML object>"
      ]
     },
     "metadata": {},
     "output_type": "display_data"
    },
    {
     "data": {
      "text/html": [
       "<table border=\"1\" class=\"dataframe\">\n",
       "  <thead>\n",
       "    <tr style=\"text-align: left;\">\n",
       "      <th>epoch</th>\n",
       "      <th>train_loss</th>\n",
       "      <th>valid_loss</th>\n",
       "      <th>accuracy</th>\n",
       "      <th>precision</th>\n",
       "      <th>recall</th>\n",
       "      <th>auroc</th>\n",
       "      <th>time</th>\n",
       "    </tr>\n",
       "  </thead>\n",
       "  <tbody>\n",
       "    <tr>\n",
       "      <td>0</td>\n",
       "      <td>1.067493</td>\n",
       "      <td>0.566147</td>\n",
       "      <td>0.779703</td>\n",
       "      <td>0.363636</td>\n",
       "      <td>0.573792</td>\n",
       "      <td>0.655460</td>\n",
       "      <td>05:05</td>\n",
       "    </tr>\n",
       "  </tbody>\n",
       "</table>"
      ],
      "text/plain": [
       "<IPython.core.display.HTML object>"
      ]
     },
     "metadata": {},
     "output_type": "display_data"
    },
    {
     "data": {
      "text/html": [
       "<table border=\"1\" class=\"dataframe\">\n",
       "  <thead>\n",
       "    <tr style=\"text-align: left;\">\n",
       "      <th>epoch</th>\n",
       "      <th>train_loss</th>\n",
       "      <th>valid_loss</th>\n",
       "      <th>accuracy</th>\n",
       "      <th>precision</th>\n",
       "      <th>recall</th>\n",
       "      <th>auroc</th>\n",
       "      <th>time</th>\n",
       "    </tr>\n",
       "  </thead>\n",
       "  <tbody>\n",
       "    <tr>\n",
       "      <td>0</td>\n",
       "      <td>1.064930</td>\n",
       "      <td>1.068546</td>\n",
       "      <td>0.504951</td>\n",
       "      <td>0.356061</td>\n",
       "      <td>0.498099</td>\n",
       "      <td>0.861450</td>\n",
       "      <td>05:04</td>\n",
       "    </tr>\n",
       "  </tbody>\n",
       "</table>"
      ],
      "text/plain": [
       "<IPython.core.display.HTML object>"
      ]
     },
     "metadata": {},
     "output_type": "display_data"
    }
   ],
   "source": [
    "for train_index, val_index in skf.split(df.index, df['y']):\n",
    "    data_fold = (ImageList.from_df(df, '/home/jupyter/covid-chestxray-dataset/data')\n",
    "                .split_by_idxs(train_index, val_index)\n",
    "                .label_from_df()\n",
    "                .transform(tfms,size =  512)\n",
    "                .databunch()).normalize(imagenet_stats)\n",
    "    learn = cnn_learner(data_fold, models.resnet50, metrics=(accuracy,precision,recall,AUC)).to_fp16()\n",
    "    learn.fit_one_cycle(1)"
   ]
  },
  {
   "cell_type": "code",
   "execution_count": null,
   "metadata": {},
   "outputs": [],
   "source": []
  },
  {
   "cell_type": "code",
   "execution_count": null,
   "metadata": {},
   "outputs": [],
   "source": []
  }
 ],
 "metadata": {
  "kernelspec": {
   "display_name": "Python 3",
   "language": "python",
   "name": "python3"
  },
  "language_info": {
   "codemirror_mode": {
    "name": "ipython",
    "version": 3
   },
   "file_extension": ".py",
   "mimetype": "text/x-python",
   "name": "python",
   "nbconvert_exporter": "python",
   "pygments_lexer": "ipython3",
   "version": "3.7.4"
  }
 },
 "nbformat": 4,
 "nbformat_minor": 4
}
